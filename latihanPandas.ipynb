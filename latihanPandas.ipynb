{
 "cells": [
  {
   "cell_type": "code",
   "execution_count": 1,
   "id": "006fc927-00e7-4fbf-a459-3d906d3366e9",
   "metadata": {},
   "outputs": [],
   "source": [
    "import pandas as pd\n",
    "import numpy as np"
   ]
  },
  {
   "cell_type": "code",
   "execution_count": 4,
   "id": "f05ffb7b-77fb-46f1-9113-4301e24cd038",
   "metadata": {},
   "outputs": [
    {
     "name": "stdout",
     "output_type": "stream",
     "text": [
      "0    a\n",
      "1    b\n",
      "2    c\n",
      "3    d\n",
      "dtype: object\n",
      "0    a\n",
      "1    b\n",
      "2    c\n",
      "3    d\n",
      "dtype: object\n"
     ]
    }
   ],
   "source": [
    "data = pd.Series(['a','b','c','d'])\n",
    "np1 = np.array(['a','b','c','d'])\n",
    "data_np = pd.Series(np1)\n",
    "\n",
    "print(data)\n",
    "print(data_np)"
   ]
  },
  {
   "cell_type": "code",
   "execution_count": 5,
   "id": "450fc49c-5002-4b05-a162-0622202d7c05",
   "metadata": {},
   "outputs": [
    {
     "name": "stdout",
     "output_type": "stream",
     "text": [
      "12    a\n",
      "13    b\n",
      "14    c\n",
      "15    d\n",
      "dtype: object\n"
     ]
    }
   ],
   "source": [
    "data_np = (pd.Series(np1, index=[12,13,14,15]))\n",
    "print(data_np)"
   ]
  },
  {
   "cell_type": "code",
   "execution_count": 7,
   "id": "f003d1c9-36f1-40d3-9824-a2fc2e88dcf4",
   "metadata": {},
   "outputs": [
    {
     "name": "stdout",
     "output_type": "stream",
     "text": [
      "            Negara          Ibu Kota    Luas  Populasi\n",
      "0        Indonesia           Jakarta    1905       264\n",
      "1           Jepang             Tokyo  377972       143\n",
      "2            India         New Delhi    3287      1252\n",
      "3            China           Beijing    9597      1357\n",
      "4  Amerika Serikat  Washington, D.C.    9834      5298\n"
     ]
    }
   ],
   "source": [
    "dict = {\"Negara\":[\"Indonesia\", \"Jepang\", \"India\",\"China\",\"Amerika Serikat\"], \"Ibu Kota\":[\"Jakarta\",\"Tokyo\",\"New Delhi\", \"Beijing\",\"Washington, D.C.\"],\n",
    "       \"Luas\":[1905, 377972, 3287, 9597, 9834], \"Populasi\":[264, 143, 1252, 1357, 5298]}\n",
    "\n",
    "df = pd.DataFrame(dict)\n",
    "print(df)"
   ]
  },
  {
   "cell_type": "code",
   "execution_count": null,
   "id": "da65358b-e4fe-400d-ba7b-29b95ef71a44",
   "metadata": {},
   "outputs": [],
   "source": []
  }
 ],
 "metadata": {
  "kernelspec": {
   "display_name": "Python 3 (ipykernel)",
   "language": "python",
   "name": "python3"
  },
  "language_info": {
   "codemirror_mode": {
    "name": "ipython",
    "version": 3
   },
   "file_extension": ".py",
   "mimetype": "text/x-python",
   "name": "python",
   "nbconvert_exporter": "python",
   "pygments_lexer": "ipython3",
   "version": "3.12.4"
  }
 },
 "nbformat": 4,
 "nbformat_minor": 5
}
