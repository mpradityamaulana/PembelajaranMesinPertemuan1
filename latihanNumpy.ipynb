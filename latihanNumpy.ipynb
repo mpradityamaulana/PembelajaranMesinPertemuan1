{
 "cells": [
  {
   "cell_type": "code",
   "execution_count": 1,
   "id": "f825eaf8-6d73-4db0-bc05-110a942840b6",
   "metadata": {},
   "outputs": [],
   "source": [
    "import numpy as np"
   ]
  },
  {
   "cell_type": "code",
   "execution_count": 2,
   "id": "e9746d12-c42b-4103-9644-e88032c5b2ae",
   "metadata": {},
   "outputs": [
    {
     "name": "stdout",
     "output_type": "stream",
     "text": [
      "<class 'list'>\n",
      "<class 'numpy.ndarray'>\n",
      "(3,)\n",
      "[1 2 3]\n"
     ]
    }
   ],
   "source": [
    "myList = [1,2,3]\n",
    "myArray = np.array(myList)\n",
    "print(type(myList))\n",
    "print(type(myArray))\n",
    "print(myArray.shape)\n",
    "print(myArray)"
   ]
  },
  {
   "cell_type": "code",
   "execution_count": 3,
   "id": "1d637853-92ea-43bb-882f-6e2bf2d78e1b",
   "metadata": {},
   "outputs": [
    {
     "name": "stdout",
     "output_type": "stream",
     "text": [
      "[[1 2 3]\n",
      " [4 5 6]]\n",
      "(2, 3)\n"
     ]
    }
   ],
   "source": [
    "myList = [[1,2,3],[4,5,6]]\n",
    "myArray = np.array(myList)\n",
    "\n",
    "print(myArray)\n",
    "print(myArray.shape)"
   ]
  },
  {
   "cell_type": "code",
   "execution_count": 4,
   "id": "80906274-54a6-463b-af4d-de41b8c3efcb",
   "metadata": {},
   "outputs": [
    {
     "name": "stdout",
     "output_type": "stream",
     "text": [
      "Baris pertama:  [1 2 3]\n",
      "Baris terakhir:  [4 5 6]\n"
     ]
    }
   ],
   "source": [
    "print(\"Baris pertama: \", myArray[0])\n",
    "print(\"Baris terakhir: \", myArray[1])"
   ]
  },
  {
   "cell_type": "code",
   "execution_count": 5,
   "id": "eb79efcc-75ec-4d2f-8396-e110a3c67afc",
   "metadata": {},
   "outputs": [
    {
     "name": "stdout",
     "output_type": "stream",
     "text": [
      "Baris pertama kolom ketiga:  3\n"
     ]
    }
   ],
   "source": [
    "print(\"Baris pertama kolom ketiga: \", myArray[0][2])"
   ]
  },
  {
   "cell_type": "code",
   "execution_count": 7,
   "id": "95ac6614-a1e4-4a6a-9c16-bc52aa7c970b",
   "metadata": {},
   "outputs": [
    {
     "name": "stdout",
     "output_type": "stream",
     "text": [
      "Hasilnya:  [3 6]\n"
     ]
    }
   ],
   "source": [
    "print(\"Hasilnya: \", myArray[:,2])"
   ]
  },
  {
   "cell_type": "code",
   "execution_count": 10,
   "id": "816c6ba2-262b-4e38-bab9-9126ddc19b14",
   "metadata": {},
   "outputs": [
    {
     "name": "stdout",
     "output_type": "stream",
     "text": [
      "Hasil dari perjumlahan array:  [5 5 5]\n",
      "Hasil dari perkalian array [6 6 6]\n"
     ]
    }
   ],
   "source": [
    "myArray1 = np.array([2,2,2])\n",
    "myArray2 = np.array([3,3,3])\n",
    "\n",
    "print(\"Hasil dari perjumlahan array: \", myArray1 + myArray2)\n",
    "print(\"Hasil dari perkalian array\", myArray1 * myArray2)"
   ]
  },
  {
   "cell_type": "code",
   "execution_count": null,
   "id": "909fb1f0-7790-42fa-ac3a-0b2837530ff7",
   "metadata": {},
   "outputs": [],
   "source": []
  }
 ],
 "metadata": {
  "kernelspec": {
   "display_name": "Python 3 (ipykernel)",
   "language": "python",
   "name": "python3"
  },
  "language_info": {
   "codemirror_mode": {
    "name": "ipython",
    "version": 3
   },
   "file_extension": ".py",
   "mimetype": "text/x-python",
   "name": "python",
   "nbconvert_exporter": "python",
   "pygments_lexer": "ipython3",
   "version": "3.12.4"
  }
 },
 "nbformat": 4,
 "nbformat_minor": 5
}
